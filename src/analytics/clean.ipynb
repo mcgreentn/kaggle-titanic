{
 "cells": [
  {
   "cell_type": "markdown",
   "metadata": {},
   "source": [
    "# Setup"
   ]
  },
  {
   "cell_type": "code",
   "execution_count": 5,
   "metadata": {},
   "outputs": [],
   "source": [
    "import pandas as pd\n",
    "import re\n",
    "import csv\n",
    "\n",
    "import matplotlib.pyplot as plot\n",
    "import category_encoders as ce\n",
    "\n",
    "from sklearn import preprocessing\n",
    "from numpy import NaN\n",
    "from sklearn.decomposition import PCA\n",
    "from sklearn.impute import KNNImputer\n"
   ]
  },
  {
   "cell_type": "code",
   "execution_count": 21,
   "metadata": {},
   "outputs": [],
   "source": [
    "# load data\n",
    "raw_train_df = pd.read_csv(\"../../input/train.csv\")\n",
    "raw_test_df = pd.read_csv(\"../../input/test.csv\")\n",
    "\n",
    "raw_df = pd.concat([raw_train_df, raw_test_df])"
   ]
  },
  {
   "cell_type": "markdown",
   "metadata": {},
   "source": [
    "# Cleaning"
   ]
  },
  {
   "cell_type": "code",
   "execution_count": 27,
   "metadata": {},
   "outputs": [],
   "source": [
    "def extract_cabin_letter(x):\n",
    "    if x is NaN:\n",
    "        return 'ZZZ'\n",
    "    res = re.findall('([a-zA-Z ]*)\\d*.*', x)\n",
    "    return str(res[0])\n",
    "\n",
    "def extract_cabin_number(x):\n",
    "    if x is NaN:\n",
    "        return 0\n",
    "    res = re.findall('[a-zA-Z ]*(\\d*).*', x)\n",
    "    try:\n",
    "        val = int(float(res[0]))\n",
    "        return val\n",
    "    except:\n",
    "        print(res[0])\n",
    "\n",
    "clean_df = raw_df.copy()\n",
    "clean_df = clean_df.drop('PassengerId', axis=1)\n",
    "clean_df = clean_df.drop('Ticket', axis=1)\n",
    "clean_df = clean_df.drop(\"Name\", axis=1)\n",
    "clean_df[\"HasCabin\"] = clean_df[\"Cabin\"].map(lambda x: x is NaN)\n",
    "\n",
    "clean_df[\"CabinLetter\"] = clean_df[\"Cabin\"].map(extract_cabin_letter)\n",
    "clean_df = clean_df.drop(\"Cabin\", axis=1)\n",
    "\n",
    "ce_OHE = ce.OneHotEncoder(cols=['Embarked', 'Pclass', 'Sex', \"CabinLetter\"])\n",
    "\n",
    "clean_df = ce_OHE.fit_transform(clean_df)\n",
    "\n"
   ]
  },
  {
   "cell_type": "code",
   "execution_count": 28,
   "metadata": {},
   "outputs": [
    {
     "name": "stdout",
     "output_type": "stream",
     "text": [
      "Index(['Survived', 'Pclass_1', 'Pclass_2', 'Pclass_3', 'Sex_1', 'Sex_2', 'Age',\n",
      "       'SibSp', 'Parch', 'Fare', 'Embarked_1', 'Embarked_2', 'Embarked_3',\n",
      "       'Embarked_4', 'HasCabin', 'CabinLetter_1', 'CabinLetter_2',\n",
      "       'CabinLetter_3', 'CabinLetter_4', 'CabinLetter_5', 'CabinLetter_6',\n",
      "       'CabinLetter_7', 'CabinLetter_8', 'CabinLetter_9', 'CabinLetter_10',\n",
      "       'CabinLetter_11'],\n",
      "      dtype='object')\n"
     ]
    }
   ],
   "source": [
    "print(clean_df.columns)\n"
   ]
  },
  {
   "cell_type": "code",
   "execution_count": 33,
   "metadata": {},
   "outputs": [],
   "source": [
    "# normalize data\n",
    "# train_max = clean_train_df.max()\n",
    "# train_min = clean_train_df.min()\n",
    "# train_max.to_csv(\"../../input/max_stats.csv\")\n",
    "# train_min.to_csv(\"../../input/min_stats.csv\")\n",
    "\n",
    "clean_train_df = clean_df.iloc[:891]\n",
    "x = clean_train_df.values #returns a numpy array\n",
    "min_max_scaler = preprocessing.MinMaxScaler()\n",
    "x_scaled = min_max_scaler.fit_transform(x)\n",
    "\n",
    "clean_test_df = clean_df.iloc[891:]\n",
    "y = clean_test_df.values\n",
    "y_scaled = min_max_scaler.transform(y)\n",
    "\n",
    "normalized_train_df = pd.DataFrame(x_scaled, columns=clean_df.columns)\n",
    "normalized_test_df = pd.DataFrame(y_scaled, columns=clean_df.columns)\n",
    "\n",
    "# combine again\n",
    "normalized_df = pd.concat([normalized_train_df, normalized_test_df])\n"
   ]
  },
  {
   "cell_type": "code",
   "execution_count": 34,
   "metadata": {},
   "outputs": [],
   "source": [
    "# see if we can impute missing values\n",
    "imp = KNNImputer(n_neighbors=5)\n",
    "imp.fit(normalized_df)\n",
    "normalized_df = pd.DataFrame(imp.transform(normalized_df), columns=normalized_df.columns)\n",
    "\n",
    "normalized_df.iloc[:891].to_csv(\"../../input/norm_train.csv\")\n",
    "normalized_df.iloc[891:].to_csv(\"../../input/norm_test.csv\")\n"
   ]
  },
  {
   "cell_type": "code",
   "execution_count": 35,
   "metadata": {},
   "outputs": [
    {
     "data": {
      "text/plain": [
       "array([[ 3.41264250e-01, -3.80393055e-01,  3.88607061e-01,\n",
       "        -8.21400628e-03, -2.96745948e-01,  2.96745948e-01,\n",
       "         4.73106052e-02, -6.15058777e-04,  1.46394392e-02,\n",
       "         6.65807705e-02, -1.66997926e-01,  1.93741680e-01,\n",
       "        -3.04417945e-02,  3.69804104e-03, -3.89176389e-01,\n",
       "        -3.89176389e-01,  1.36649576e-01,  5.03982623e-02,\n",
       "         3.18665473e-03,  6.30241455e-02,  2.47923076e-02,\n",
       "         9.76300272e-02,  1.13083556e-02, -3.54821351e-04,\n",
       "         1.88970777e-03,  6.52173750e-04],\n",
       "       [-2.73646573e-01, -2.16450587e-01,  2.72801196e-01,\n",
       "        -5.63506091e-02,  5.62302505e-01, -5.62302505e-01,\n",
       "         8.55592464e-02, -2.07040979e-02, -3.79681434e-02,\n",
       "         2.57577657e-02,  2.18269699e-02,  8.05049028e-02,\n",
       "        -1.01939449e-01, -3.92423400e-04, -2.51144829e-01,\n",
       "        -2.51144829e-01,  9.42255797e-02,  3.16697773e-02,\n",
       "        -4.55351818e-03,  3.52317449e-02,  3.39767368e-02,\n",
       "         5.12366030e-02,  1.67012349e-03,  4.54582094e-03,\n",
       "         1.14767643e-03,  1.99428445e-03],\n",
       "       [-5.70704776e-02,  4.27086233e-01,  3.95322956e-02,\n",
       "        -4.66618528e-01,  3.24205438e-02, -3.24205438e-02,\n",
       "        -1.38299082e-02, -3.77914503e-03, -1.30111620e-02,\n",
       "         7.06410432e-03, -6.13988469e-01,  4.20650696e-01,\n",
       "         1.92639786e-01,  6.97987129e-04, -1.83423359e-03,\n",
       "        -1.83423359e-03,  1.58767018e-02, -1.38446526e-02,\n",
       "        -5.61544562e-04, -4.32130325e-03,  6.45476382e-03,\n",
       "         1.71121341e-02, -2.50928752e-02,  3.22487889e-04,\n",
       "         6.63663007e-03, -7.48108482e-04],\n",
       "       [ 6.26588462e-02, -4.06513713e-01, -1.60231946e-01,\n",
       "         5.66745658e-01,  1.00065779e-01, -1.00065779e-01,\n",
       "         1.08925220e-02, -3.44336443e-02, -3.26782205e-02,\n",
       "        -1.18688812e-02, -4.40018583e-01,  3.87777066e-01,\n",
       "         5.39122879e-02, -1.67077090e-03,  2.25939394e-01,\n",
       "         2.25939394e-01, -8.80262623e-02, -4.20609275e-02,\n",
       "        -1.49940468e-02, -2.10037568e-02, -8.68185803e-03,\n",
       "        -4.50876435e-02,  4.97807103e-03, -9.63014451e-03,\n",
       "         2.00026626e-04, -1.63285261e-03],\n",
       "       [ 1.82784466e-01, -3.81501337e-02, -5.44609396e-02,\n",
       "         9.26110733e-02,  1.03771865e-01, -1.03771865e-01,\n",
       "         7.64757865e-02, -4.56700592e-02, -7.18875241e-02,\n",
       "        -2.99818640e-02, -2.31293862e-01, -5.22774454e-01,\n",
       "         7.49765331e-01,  4.30298432e-03, -1.09879474e-01,\n",
       "        -1.09879474e-01,  3.25796224e-02,  4.19854002e-02,\n",
       "        -9.61969729e-04,  1.67302120e-02,  3.50986964e-03,\n",
       "        -2.19721579e-02,  3.63819623e-02,  3.93926235e-03,\n",
       "        -3.13905566e-03,  8.26328181e-04]])"
      ]
     },
     "execution_count": 35,
     "metadata": {},
     "output_type": "execute_result"
    }
   ],
   "source": [
    "pca = PCA(n_components=5)\n",
    "pca.fit(normalized_df)\n",
    "pca.components_"
   ]
  },
  {
   "cell_type": "code",
   "execution_count": null,
   "metadata": {},
   "outputs": [],
   "source": []
  }
 ],
 "metadata": {
  "kernelspec": {
   "display_name": "Python 3.10.4 ('torch_3.10')",
   "language": "python",
   "name": "python3"
  },
  "language_info": {
   "codemirror_mode": {
    "name": "ipython",
    "version": 3
   },
   "file_extension": ".py",
   "mimetype": "text/x-python",
   "name": "python",
   "nbconvert_exporter": "python",
   "pygments_lexer": "ipython3",
   "version": "3.10.4"
  },
  "orig_nbformat": 4,
  "vscode": {
   "interpreter": {
    "hash": "d34cdc29f7b3aa8973887cb4496c141c974a043e284095047ad03aee3be0dce7"
   }
  }
 },
 "nbformat": 4,
 "nbformat_minor": 2
}
